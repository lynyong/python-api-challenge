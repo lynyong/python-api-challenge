{
 "cells": [
  {
   "cell_type": "markdown",
   "metadata": {},
   "source": [
    "# WeatherPy\n",
    "----\n",
    "\n",
    "#### Note\n",
    "* Instructions have been included for each segment. You do not have to follow them exactly, but they are included to help you think through the steps."
   ]
  },
  {
   "cell_type": "code",
   "execution_count": 1,
   "metadata": {
    "scrolled": true
   },
   "outputs": [],
   "source": [
    "# Dependencies and Setup \n",
    "import matplotlib.pyplot as plt\n",
    "import pandas as pd\n",
    "import numpy  as np\n",
    "import requests\n",
    "import time\n",
    "from scipy.stats import linregress\n",
    "\n",
    "# Import API key \n",
    "from api_key import weather_api_key\n",
    "\n",
    "# Incorporate citipy to determine city based on latitude and longtitude \n",
    "from citipy import citipy \n",
    "\n",
    "# Output File (CSV)\n",
    "output_data_file = \"output_data/cities.csv\" \n",
    "\n",
    "# Range of latitudes and longtitudes \n",
    "lat_range = (-90, 90)\n",
    "lng_range = (-180, 180)"
   ]
  },
  {
   "cell_type": "markdown",
   "metadata": {},
   "source": [
    "## Generate Cities List"
   ]
  },
  {
   "cell_type": "code",
   "execution_count": 2,
   "metadata": {},
   "outputs": [
    {
     "data": {
      "text/plain": [
       "598"
      ]
     },
     "execution_count": 2,
     "metadata": {},
     "output_type": "execute_result"
    }
   ],
   "source": [
    "# List for holding lat_lngs and cities \n",
    "lat_lngs = []\n",
    "cities = []\n",
    "\n",
    "# Create a set of random lat and lng combinations \n",
    "lats = np.random.uniform(lat_range[0], lat_range[1], size=1500)\n",
    "lngs = np.random.uniform(lat_range[0], lat_range[1], size=1500)\n",
    "lat_lngs = zip(lats, lngs)\n",
    "\n",
    "# Identify nearest city for each lat, lng combination \n",
    "for lat_lng in lat_lngs: \n",
    "    city = citipy.nearest_city(lat_lng[0], lat_lng[1]).city_name \n",
    "    \n",
    "    #If the city is unique, then add it to a cities list \n",
    "    if city not in cities: \n",
    "        cities.append(city)\n",
    "        \n",
    "# Print the city count to confirm sufficient count \n",
    "len(cities)"
   ]
  },
  {
   "cell_type": "markdown",
   "metadata": {},
   "source": [
    "### Perform API Calls\n",
    "* Perform a weather check on each city using a series of successive API calls.\n",
    "* Include a print log of each city as it'sbeing processed (with the city number and city name).\n"
   ]
  },
  {
   "cell_type": "code",
   "execution_count": 3,
   "metadata": {},
   "outputs": [],
   "source": [
    "# Save config information\n",
    "url = \"http://api.openweathermap.org/data/2.5/weather?\"\n",
    "units = \"imperial\"\n",
    "\n",
    "# Build partial query URL\n",
    "query_url = f\"{url}appid={weather_api_key}&units={units}&q=\""
   ]
  },
  {
   "cell_type": "code",
   "execution_count": 4,
   "metadata": {},
   "outputs": [
    {
     "name": "stdout",
     "output_type": "stream",
     "text": [
      "Beginning Data Retrieval \n",
      "--------------------------------------------------------------\n",
      "Processing Record 1 of Set 1 | ushuaia\n",
      "Processing Record 2 of Set 1 | margate\n",
      "Processing Record 3 of Set 1 | illoqqortoormiut\n",
      "City not found. Skipping...\n",
      "Processing Record 4 of Set 1 | port alfred\n",
      "Processing Record 5 of Set 1 | dekar\n",
      "Processing Record 6 of Set 1 | paamiut\n",
      "Processing Record 7 of Set 1 | busselton\n",
      "Processing Record 8 of Set 1 | calan\n",
      "Processing Record 9 of Set 1 | buraydah\n",
      "Processing Record 10 of Set 1 | berberati\n",
      "Processing Record 11 of Set 1 | takoradi\n",
      "Processing Record 12 of Set 1 | salinopolis\n",
      "Processing Record 13 of Set 1 | bandarbeyla\n",
      "Processing Record 14 of Set 1 | saint george\n",
      "Processing Record 15 of Set 1 | jamestown\n",
      "Processing Record 16 of Set 1 | nador\n",
      "Processing Record 17 of Set 1 | torbay\n",
      "Processing Record 18 of Set 1 | manta\n",
      "Processing Record 19 of Set 1 | kaduqli\n",
      "Processing Record 20 of Set 1 | safranbolu\n",
      "Processing Record 21 of Set 1 | hermanus\n",
      "Processing Record 22 of Set 1 | bukama\n",
      "Processing Record 23 of Set 1 | arraial do cabo\n",
      "Processing Record 24 of Set 1 | cape town\n",
      "Processing Record 25 of Set 1 | el cope\n",
      "Processing Record 26 of Set 1 | saint-georges\n",
      "Processing Record 27 of Set 1 | tumannyy\n",
      "City not found. Skipping...\n",
      "Processing Record 28 of Set 1 | vila velha\n",
      "Processing Record 29 of Set 1 | taolanaro\n",
      "City not found. Skipping...\n",
      "Processing Record 30 of Set 1 | mbandaka\n",
      "Processing Record 31 of Set 1 | beyneu\n",
      "Processing Record 32 of Set 1 | hithadhoo\n",
      "Processing Record 33 of Set 1 | leshukonskoye\n",
      "Processing Record 34 of Set 1 | nokaneng\n",
      "Processing Record 35 of Set 1 | victoria\n",
      "Processing Record 36 of Set 1 | klaksvik\n",
      "Processing Record 37 of Set 1 | upernavik\n",
      "Processing Record 38 of Set 1 | lasa\n",
      "Processing Record 39 of Set 1 | mar del plata\n",
      "Processing Record 40 of Set 1 | marsh harbour\n",
      "Processing Record 41 of Set 1 | dikson\n",
      "Processing Record 42 of Set 1 | chapais\n",
      "Processing Record 43 of Set 1 | grand river south east\n",
      "City not found. Skipping...\n",
      "Processing Record 44 of Set 1 | tasiilaq\n",
      "Processing Record 45 of Set 1 | barentsburg\n",
      "City not found. Skipping...\n",
      "Processing Record 46 of Set 1 | sioux lookout\n",
      "Processing Record 47 of Set 1 | saint-philippe\n",
      "Processing Record 48 of Set 1 | cienfuegos\n",
      "Processing Record 49 of Set 1 | east london\n",
      "Processing Record 50 of Set 1 | bengkulu\n",
      "Processing Record 0 of Set 2 | qaanaaq\n",
      "Processing Record 1 of Set 2 | amderma\n",
      "City not found. Skipping...\n",
      "Processing Record 2 of Set 2 | belushya guba\n",
      "City not found. Skipping...\n",
      "Processing Record 3 of Set 2 | roald\n",
      "Processing Record 4 of Set 2 | akhmim\n",
      "Processing Record 5 of Set 2 | namibe\n",
      "Processing Record 6 of Set 2 | bredasdorp\n",
      "Processing Record 7 of Set 2 | gat\n",
      "Processing Record 8 of Set 2 | necochea\n",
      "Processing Record 9 of Set 2 | bubaque\n",
      "Processing Record 10 of Set 2 | punta arenas\n",
      "Processing Record 11 of Set 2 | suez\n",
      "Processing Record 12 of Set 2 | makinsk\n",
      "Processing Record 13 of Set 2 | kruisfontein\n",
      "Processing Record 14 of Set 2 | los llanos de aridane\n",
      "Processing Record 15 of Set 2 | guabito\n",
      "Processing Record 16 of Set 2 | adrar\n",
      "Processing Record 17 of Set 2 | riyadh\n",
      "Processing Record 18 of Set 2 | baghdad\n",
      "Processing Record 19 of Set 2 | bolungarvik\n",
      "City not found. Skipping...\n",
      "Processing Record 20 of Set 2 | gazli\n",
      "Processing Record 21 of Set 2 | port-gentil\n",
      "Processing Record 22 of Set 2 | luderitz\n",
      "Processing Record 23 of Set 2 | okitipupa\n",
      "Processing Record 24 of Set 2 | saldanha\n",
      "Processing Record 25 of Set 2 | kargil\n",
      "Processing Record 26 of Set 2 | cidreira\n",
      "Processing Record 27 of Set 2 | husavik\n",
      "Processing Record 28 of Set 2 | yar-sale\n",
      "Processing Record 29 of Set 2 | pozo colorado\n",
      "Processing Record 30 of Set 2 | benque viejo\n",
      "City not found. Skipping...\n",
      "Processing Record 31 of Set 2 | verkhovye\n",
      "Processing Record 32 of Set 2 | santa marinella\n",
      "Processing Record 33 of Set 2 | qasigiannguit\n",
      "Processing Record 34 of Set 2 | pudozh\n",
      "Processing Record 35 of Set 2 | dzaoudzi\n",
      "Processing Record 36 of Set 2 | lagoa\n",
      "Processing Record 37 of Set 2 | aripuana\n",
      "Processing Record 38 of Set 2 | vila franca do campo\n",
      "Processing Record 39 of Set 2 | maragogi\n",
      "Processing Record 40 of Set 2 | nantucket\n",
      "Processing Record 41 of Set 2 | surab\n",
      "Processing Record 42 of Set 2 | clyde river\n",
      "Processing Record 43 of Set 2 | coleraine\n",
      "Processing Record 44 of Set 2 | kashi\n",
      "Processing Record 45 of Set 2 | floro\n",
      "Processing Record 46 of Set 2 | beitbridge\n",
      "Processing Record 47 of Set 2 | rawson\n",
      "Processing Record 48 of Set 2 | oxelosund\n",
      "Processing Record 49 of Set 2 | zambezi\n",
      "Processing Record 0 of Set 3 | lago da pedra\n",
      "Processing Record 1 of Set 3 | novo aripuana\n",
      "Processing Record 2 of Set 3 | suoyarvi\n",
      "Processing Record 3 of Set 3 | wolmaranstad\n",
      "City not found. Skipping...\n",
      "Processing Record 4 of Set 3 | caravelas\n",
      "Processing Record 5 of Set 3 | tsihombe\n",
      "City not found. Skipping...\n",
      "Processing Record 6 of Set 3 | comodoro rivadavia\n",
      "Processing Record 7 of Set 3 | drumnadrochit\n",
      "Processing Record 8 of Set 3 | lebu\n",
      "Processing Record 9 of Set 3 | codrington\n",
      "Processing Record 10 of Set 3 | hofn\n",
      "Processing Record 11 of Set 3 | viedma\n",
      "Processing Record 12 of Set 3 | bonavista\n",
      "Processing Record 13 of Set 3 | rio gallegos\n",
      "Processing Record 14 of Set 3 | ambilobe\n",
      "Processing Record 15 of Set 3 | salalah\n",
      "Processing Record 16 of Set 3 | loandjili\n",
      "Processing Record 17 of Set 3 | mahibadhoo\n",
      "Processing Record 18 of Set 3 | port elizabeth\n",
      "Processing Record 19 of Set 3 | pokhara\n",
      "Processing Record 20 of Set 3 | nicoya\n",
      "Processing Record 21 of Set 3 | yenagoa\n",
      "Processing Record 22 of Set 3 | gaoual\n",
      "Processing Record 23 of Set 3 | biasca\n",
      "Processing Record 24 of Set 3 | kerki\n",
      "City not found. Skipping...\n",
      "Processing Record 25 of Set 3 | mangrol\n",
      "Processing Record 26 of Set 3 | mahebourg\n",
      "Processing Record 27 of Set 3 | tafresh\n",
      "Processing Record 28 of Set 3 | kapuskasing\n",
      "Processing Record 29 of Set 3 | mehamn\n",
      "Processing Record 30 of Set 3 | belle glade\n",
      "Processing Record 31 of Set 3 | goderich\n",
      "Processing Record 32 of Set 3 | ilulissat\n",
      "Processing Record 33 of Set 3 | bronnoysund\n",
      "Processing Record 34 of Set 3 | neyshabur\n",
      "Processing Record 35 of Set 3 | hermagor\n",
      "Processing Record 36 of Set 3 | cockburn town\n",
      "Processing Record 37 of Set 3 | karamay\n",
      "City not found. Skipping...\n",
      "Processing Record 38 of Set 3 | ribeira grande\n",
      "Processing Record 39 of Set 3 | fier\n",
      "Processing Record 40 of Set 3 | cayenne\n",
      "Processing Record 41 of Set 3 | correntina\n",
      "Processing Record 42 of Set 3 | artyom\n",
      "Processing Record 43 of Set 3 | jacareacanga\n",
      "Processing Record 44 of Set 3 | bafoulabe\n",
      "Processing Record 45 of Set 3 | togur\n",
      "Processing Record 46 of Set 3 | buritama\n",
      "Processing Record 47 of Set 3 | oktyabrskiy\n",
      "Processing Record 48 of Set 3 | tazovskiy\n",
      "Processing Record 49 of Set 3 | sembe\n",
      "Processing Record 0 of Set 4 | sandwick\n",
      "Processing Record 1 of Set 4 | barinas\n",
      "Processing Record 2 of Set 4 | morondava\n",
      "Processing Record 3 of Set 4 | marcona\n",
      "City not found. Skipping...\n",
      "Processing Record 4 of Set 4 | chuy\n",
      "Processing Record 5 of Set 4 | calabozo\n",
      "Processing Record 6 of Set 4 | iqaluit\n",
      "Processing Record 7 of Set 4 | attawapiskat\n",
      "City not found. Skipping...\n",
      "Processing Record 8 of Set 4 | iberia\n",
      "Processing Record 9 of Set 4 | atocha\n",
      "Processing Record 10 of Set 4 | sorvag\n",
      "City not found. Skipping...\n",
      "Processing Record 11 of Set 4 | puerto quijarro\n",
      "Processing Record 12 of Set 4 | huarmey\n",
      "Processing Record 13 of Set 4 | terenos\n",
      "Processing Record 14 of Set 4 | taoudenni\n",
      "Processing Record 15 of Set 4 | saint-jean-port-joli\n",
      "Processing Record 16 of Set 4 | westport\n",
      "Processing Record 17 of Set 4 | georgetown\n",
      "Processing Record 18 of Set 4 | kindu\n",
      "Processing Record 19 of Set 4 | tahta\n",
      "Processing Record 20 of Set 4 | rocha\n",
      "Processing Record 21 of Set 4 | katoro\n",
      "Processing Record 22 of Set 4 | rundu\n",
      "Processing Record 23 of Set 4 | jiwani\n",
      "Processing Record 24 of Set 4 | shieli\n",
      "Processing Record 25 of Set 4 | longyearbyen\n",
      "Processing Record 26 of Set 4 | jiguani\n",
      "Processing Record 27 of Set 4 | valdosta\n",
      "Processing Record 28 of Set 4 | afua\n",
      "Processing Record 29 of Set 4 | batticaloa\n",
      "Processing Record 30 of Set 4 | axim\n",
      "Processing Record 31 of Set 4 | jiddah\n",
      "City not found. Skipping...\n",
      "Processing Record 32 of Set 4 | khor\n",
      "Processing Record 33 of Set 4 | jahrom\n",
      "City not found. Skipping...\n"
     ]
    },
    {
     "name": "stdout",
     "output_type": "stream",
     "text": [
      "Processing Record 34 of Set 4 | hudiksvall\n",
      "Processing Record 35 of Set 4 | laguna\n",
      "Processing Record 36 of Set 4 | ust-tsilma\n",
      "Processing Record 37 of Set 4 | grindavik\n",
      "Processing Record 38 of Set 4 | negombo\n",
      "Processing Record 39 of Set 4 | behshahr\n",
      "Processing Record 40 of Set 4 | bilma\n",
      "Processing Record 41 of Set 4 | birao\n",
      "Processing Record 42 of Set 4 | honningsvag\n",
      "Processing Record 43 of Set 4 | dalbandin\n",
      "Processing Record 44 of Set 4 | olafsvik\n",
      "Processing Record 45 of Set 4 | sistranda\n",
      "Processing Record 46 of Set 4 | baijiantan\n",
      "Processing Record 47 of Set 4 | mahadday weyne\n",
      "City not found. Skipping...\n",
      "Processing Record 48 of Set 4 | biu\n",
      "Processing Record 49 of Set 4 | karauzyak\n",
      "City not found. Skipping...\n",
      "Processing Record 0 of Set 5 | jardim\n",
      "Processing Record 1 of Set 5 | yanam\n",
      "Processing Record 2 of Set 5 | khilchipur\n",
      "Processing Record 3 of Set 5 | hamilton\n",
      "Processing Record 4 of Set 5 | turayf\n",
      "Processing Record 5 of Set 5 | nalut\n",
      "Processing Record 6 of Set 5 | puerto cabezas\n",
      "Processing Record 7 of Set 5 | kem\n",
      "Processing Record 8 of Set 5 | prainha\n",
      "Processing Record 9 of Set 5 | damaturu\n",
      "Processing Record 10 of Set 5 | san rafael del sur\n",
      "Processing Record 11 of Set 5 | coquimbo\n",
      "Processing Record 12 of Set 5 | hambantota\n",
      "Processing Record 13 of Set 5 | sayyan\n",
      "Processing Record 14 of Set 5 | vardo\n",
      "Processing Record 15 of Set 5 | yeola\n",
      "Processing Record 16 of Set 5 | kirkwall\n",
      "Processing Record 17 of Set 5 | mecca\n",
      "Processing Record 18 of Set 5 | atbasar\n",
      "Processing Record 19 of Set 5 | florianopolis\n",
      "Processing Record 20 of Set 5 | jerusalem\n",
      "Processing Record 21 of Set 5 | manakara\n",
      "Processing Record 22 of Set 5 | shakhrinau\n",
      "City not found. Skipping...\n",
      "Processing Record 23 of Set 5 | piacabucu\n",
      "Processing Record 24 of Set 5 | touros\n",
      "Processing Record 25 of Set 5 | dingle\n",
      "Processing Record 26 of Set 5 | maniitsoq\n",
      "Processing Record 27 of Set 5 | opuwo\n",
      "Processing Record 28 of Set 5 | praia da vitoria\n",
      "Processing Record 29 of Set 5 | itarema\n",
      "Processing Record 30 of Set 5 | pucara\n",
      "Processing Record 31 of Set 5 | odweyne\n",
      "Processing Record 32 of Set 5 | gloucester\n",
      "Processing Record 33 of Set 5 | marzuq\n",
      "Processing Record 34 of Set 5 | kalmunai\n",
      "Processing Record 35 of Set 5 | san carlos de bariloche\n",
      "Processing Record 36 of Set 5 | tocache\n",
      "Processing Record 37 of Set 5 | abu samrah\n",
      "Processing Record 38 of Set 5 | saryozek\n",
      "Processing Record 39 of Set 5 | lucapa\n",
      "Processing Record 40 of Set 5 | lodwar\n",
      "Processing Record 41 of Set 5 | saint-ambroise\n",
      "Processing Record 42 of Set 5 | munteni buzau\n",
      "Processing Record 43 of Set 5 | sakakah\n",
      "Processing Record 44 of Set 5 | saint-joseph\n",
      "Processing Record 45 of Set 5 | safaga\n",
      "Processing Record 46 of Set 5 | nouadhibou\n",
      "Processing Record 47 of Set 5 | llanes\n",
      "Processing Record 48 of Set 5 | gazanjyk\n",
      "Processing Record 49 of Set 5 | ayabaca\n",
      "Processing Record 0 of Set 6 | raudeberg\n",
      "Processing Record 1 of Set 6 | skjervoy\n",
      "Processing Record 2 of Set 6 | hvammstangi\n",
      "City not found. Skipping...\n",
      "Processing Record 3 of Set 6 | hauknes\n",
      "Processing Record 4 of Set 6 | bobcaygeon\n",
      "Processing Record 5 of Set 6 | matay\n",
      "Processing Record 6 of Set 6 | ponta do sol\n",
      "Processing Record 7 of Set 6 | souillac\n",
      "Processing Record 8 of Set 6 | porto san giorgio\n",
      "Processing Record 9 of Set 6 | zapolyarnyy\n",
      "Processing Record 10 of Set 6 | barquisimeto\n",
      "Processing Record 11 of Set 6 | kidal\n",
      "Processing Record 12 of Set 6 | arlit\n",
      "Processing Record 13 of Set 6 | harper\n",
      "Processing Record 14 of Set 6 | villarrica\n",
      "Processing Record 15 of Set 6 | kohlu\n",
      "Processing Record 16 of Set 6 | lucea\n",
      "Processing Record 17 of Set 6 | narsaq\n",
      "Processing Record 18 of Set 6 | gambela\n",
      "Processing Record 19 of Set 6 | barcelos\n",
      "Processing Record 20 of Set 6 | felidhoo\n",
      "City not found. Skipping...\n",
      "Processing Record 21 of Set 6 | graaff-reinet\n",
      "Processing Record 22 of Set 6 | castro\n",
      "Processing Record 23 of Set 6 | stutterheim\n",
      "Processing Record 24 of Set 6 | basoko\n",
      "Processing Record 25 of Set 6 | slavuta\n",
      "Processing Record 26 of Set 6 | gari\n",
      "Processing Record 27 of Set 6 | jalu\n",
      "Processing Record 28 of Set 6 | araouane\n",
      "Processing Record 29 of Set 6 | kazanlak\n",
      "Processing Record 30 of Set 6 | nizwa\n",
      "Processing Record 31 of Set 6 | oksovskiy\n",
      "Processing Record 32 of Set 6 | sao filipe\n",
      "Processing Record 33 of Set 6 | riberalta\n",
      "Processing Record 34 of Set 6 | fivizzano\n",
      "Processing Record 35 of Set 6 | ancud\n",
      "Processing Record 36 of Set 6 | pitimbu\n",
      "Processing Record 37 of Set 6 | bambous virieux\n",
      "Processing Record 38 of Set 6 | libertador general san martin\n",
      "Processing Record 39 of Set 6 | tarauaca\n",
      "Processing Record 40 of Set 6 | halifax\n",
      "Processing Record 41 of Set 6 | serafimovich\n",
      "Processing Record 42 of Set 6 | kozan\n",
      "Processing Record 43 of Set 6 | zonguldak\n",
      "Processing Record 44 of Set 6 | tawkar\n",
      "City not found. Skipping...\n",
      "Processing Record 45 of Set 6 | curuguaty\n",
      "Processing Record 46 of Set 6 | kavaratti\n",
      "Processing Record 47 of Set 6 | umm lajj\n",
      "Processing Record 48 of Set 6 | birjand\n",
      "Processing Record 49 of Set 6 | sault sainte marie\n",
      "Processing Record 0 of Set 7 | saint anthony\n",
      "Processing Record 1 of Set 7 | onega\n",
      "Processing Record 2 of Set 7 | ostrovnoy\n",
      "Processing Record 3 of Set 7 | cap-aux-meules\n",
      "Processing Record 4 of Set 7 | ati\n",
      "Processing Record 5 of Set 7 | grand gaube\n",
      "Processing Record 6 of Set 7 | malwan\n",
      "City not found. Skipping...\n",
      "Processing Record 7 of Set 7 | barda\n",
      "Processing Record 8 of Set 7 | korla\n",
      "Processing Record 9 of Set 7 | stranda\n",
      "Processing Record 10 of Set 7 | road town\n",
      "Processing Record 11 of Set 7 | ferrol\n",
      "Processing Record 12 of Set 7 | timbo\n",
      "Processing Record 13 of Set 7 | bandiagara\n",
      "Processing Record 14 of Set 7 | tapejara\n",
      "Processing Record 15 of Set 7 | abomsa\n",
      "Processing Record 16 of Set 7 | sambalpur\n",
      "Processing Record 17 of Set 7 | donskoye\n",
      "Processing Record 18 of Set 7 | monte alegre\n",
      "Processing Record 19 of Set 7 | valparaiso\n",
      "Processing Record 20 of Set 7 | eucaliptus\n",
      "Processing Record 21 of Set 7 | cruz\n",
      "Processing Record 22 of Set 7 | nanortalik\n",
      "Processing Record 23 of Set 7 | loncoche\n",
      "Processing Record 24 of Set 7 | sumbe\n",
      "Processing Record 25 of Set 7 | berlevag\n",
      "Processing Record 26 of Set 7 | bargal\n",
      "City not found. Skipping...\n",
      "Processing Record 27 of Set 7 | sinnamary\n",
      "Processing Record 28 of Set 7 | santa isabel do rio negro\n",
      "Processing Record 29 of Set 7 | kautokeino\n",
      "Processing Record 30 of Set 7 | lodja\n",
      "Processing Record 31 of Set 7 | kuche\n",
      "City not found. Skipping...\n",
      "Processing Record 32 of Set 7 | santo tomas\n",
      "Processing Record 33 of Set 7 | aswan\n",
      "Processing Record 34 of Set 7 | komatipoort\n",
      "Processing Record 35 of Set 7 | thompson\n",
      "Processing Record 36 of Set 7 | fort walton beach\n",
      "Processing Record 37 of Set 7 | bam\n",
      "Processing Record 38 of Set 7 | patacamaya\n",
      "Processing Record 39 of Set 7 | capim grosso\n",
      "Processing Record 40 of Set 7 | high rock\n",
      "Processing Record 41 of Set 7 | pangnirtung\n",
      "Processing Record 42 of Set 7 | dunkwa\n",
      "Processing Record 43 of Set 7 | rio grande\n",
      "Processing Record 44 of Set 7 | sibi\n",
      "Processing Record 45 of Set 7 | jalingo\n",
      "Processing Record 46 of Set 7 | cockburn harbour\n",
      "City not found. Skipping...\n",
      "Processing Record 47 of Set 7 | tsiroanomandidy\n",
      "Processing Record 48 of Set 7 | fostoria\n",
      "Processing Record 49 of Set 7 | mayumba\n",
      "Processing Record 0 of Set 8 | lalsot\n",
      "Processing Record 1 of Set 8 | camacha\n",
      "Processing Record 2 of Set 8 | thurles\n",
      "Processing Record 3 of Set 8 | la palma\n",
      "Processing Record 4 of Set 8 | visby\n",
      "Processing Record 5 of Set 8 | totma\n",
      "Processing Record 6 of Set 8 | yarensk\n",
      "Processing Record 7 of Set 8 | koulikoro\n",
      "Processing Record 8 of Set 8 | norden\n",
      "Processing Record 9 of Set 8 | kozhva\n",
      "Processing Record 10 of Set 8 | ormara\n",
      "Processing Record 11 of Set 8 | quepos\n",
      "Processing Record 12 of Set 8 | trelew\n",
      "Processing Record 13 of Set 8 | moose factory\n",
      "Processing Record 14 of Set 8 | gobabis\n",
      "Processing Record 15 of Set 8 | carutapera\n",
      "Processing Record 16 of Set 8 | karpathos\n",
      "Processing Record 17 of Set 8 | vestmannaeyjar\n",
      "Processing Record 18 of Set 8 | juruti\n",
      "Processing Record 19 of Set 8 | benguela\n",
      "Processing Record 20 of Set 8 | kamyzyak\n",
      "Processing Record 21 of Set 8 | urla\n",
      "Processing Record 22 of Set 8 | manga\n",
      "Processing Record 23 of Set 8 | nioro\n",
      "Processing Record 24 of Set 8 | yashkino\n",
      "Processing Record 25 of Set 8 | dmitriyevka\n"
     ]
    },
    {
     "name": "stdout",
     "output_type": "stream",
     "text": [
      "Processing Record 26 of Set 8 | yerkoy\n",
      "Processing Record 27 of Set 8 | bossembele\n",
      "City not found. Skipping...\n",
      "Processing Record 28 of Set 8 | misratah\n",
      "Processing Record 29 of Set 8 | harwich\n",
      "Processing Record 30 of Set 8 | hashtrud\n",
      "Processing Record 31 of Set 8 | serro\n",
      "Processing Record 32 of Set 8 | bathsheba\n",
      "Processing Record 33 of Set 8 | san andres\n",
      "Processing Record 34 of Set 8 | mandal\n",
      "Processing Record 35 of Set 8 | zhanatas\n",
      "City not found. Skipping...\n",
      "Processing Record 36 of Set 8 | ciudad bolivar\n",
      "Processing Record 37 of Set 8 | brae\n",
      "Processing Record 38 of Set 8 | kasese\n",
      "Processing Record 39 of Set 8 | havelock\n",
      "Processing Record 40 of Set 8 | umzimvubu\n",
      "City not found. Skipping...\n",
      "Processing Record 41 of Set 8 | asayita\n",
      "City not found. Skipping...\n",
      "Processing Record 42 of Set 8 | bani walid\n",
      "Processing Record 43 of Set 8 | kvam\n",
      "Processing Record 44 of Set 8 | cap malheureux\n",
      "Processing Record 45 of Set 8 | jumla\n",
      "Processing Record 46 of Set 8 | tornio\n",
      "Processing Record 47 of Set 8 | porto walter\n",
      "Processing Record 48 of Set 8 | progreso\n",
      "Processing Record 49 of Set 8 | eyl\n",
      "Processing Record 0 of Set 9 | amapa\n",
      "Processing Record 1 of Set 9 | carballo\n",
      "Processing Record 2 of Set 9 | meulaboh\n",
      "Processing Record 3 of Set 9 | praia\n",
      "Processing Record 4 of Set 9 | sao joao da barra\n",
      "Processing Record 5 of Set 9 | betare oya\n",
      "Processing Record 6 of Set 9 | manacor\n",
      "Processing Record 7 of Set 9 | druzhba\n",
      "Processing Record 8 of Set 9 | marawi\n",
      "Processing Record 9 of Set 9 | tskaltubo\n",
      "Processing Record 10 of Set 9 | tshikapa\n",
      "Processing Record 11 of Set 9 | mahanje\n",
      "Processing Record 12 of Set 9 | slonim\n",
      "Processing Record 13 of Set 9 | ovalle\n",
      "Processing Record 14 of Set 9 | tyulgan\n",
      "Processing Record 15 of Set 9 | pangody\n",
      "Processing Record 16 of Set 9 | ndiekro\n",
      "City not found. Skipping...\n",
      "Processing Record 17 of Set 9 | mitu\n",
      "Processing Record 18 of Set 9 | senanga\n",
      "Processing Record 19 of Set 9 | chardara\n",
      "Processing Record 20 of Set 9 | lujan\n",
      "Processing Record 21 of Set 9 | hunza\n",
      "City not found. Skipping...\n",
      "Processing Record 22 of Set 9 | hobyo\n",
      "Processing Record 23 of Set 9 | beisfjord\n",
      "Processing Record 24 of Set 9 | machilipatnam\n",
      "Processing Record 25 of Set 9 | tarudant\n",
      "City not found. Skipping...\n",
      "Processing Record 26 of Set 9 | ambatofinandrahana\n",
      "Processing Record 27 of Set 9 | dolbeau\n",
      "City not found. Skipping...\n",
      "Processing Record 28 of Set 9 | monrovia\n",
      "Processing Record 29 of Set 9 | bandipur\n",
      "Processing Record 30 of Set 9 | banda aceh\n",
      "Processing Record 31 of Set 9 | shelburne\n",
      "Processing Record 32 of Set 9 | matara\n",
      "Processing Record 33 of Set 9 | altay\n",
      "Processing Record 34 of Set 9 | sao felix do xingu\n",
      "Processing Record 35 of Set 9 | nushki\n",
      "Processing Record 36 of Set 9 | borovoy\n",
      "Processing Record 37 of Set 9 | nim ka thana\n",
      "City not found. Skipping...\n",
      "Processing Record 38 of Set 9 | limnai\n",
      "City not found. Skipping...\n",
      "Processing Record 39 of Set 9 | okandja\n",
      "City not found. Skipping...\n",
      "Processing Record 40 of Set 9 | atar\n",
      "Processing Record 41 of Set 9 | tovuz\n",
      "Processing Record 42 of Set 9 | paita\n",
      "Processing Record 43 of Set 9 | kudahuvadhoo\n",
      "Processing Record 44 of Set 9 | faya\n",
      "Processing Record 45 of Set 9 | bluefields\n",
      "Processing Record 46 of Set 9 | bluefield\n",
      "Processing Record 47 of Set 9 | montepuez\n",
      "Processing Record 48 of Set 9 | carnarvon\n",
      "Processing Record 49 of Set 9 | coihaique\n",
      "Processing Record 0 of Set 10 | peniche\n",
      "Processing Record 1 of Set 10 | taltal\n",
      "Processing Record 2 of Set 10 | zawiercie\n",
      "Processing Record 3 of Set 10 | goma\n",
      "Processing Record 4 of Set 10 | chupa\n",
      "Processing Record 5 of Set 10 | matagami\n",
      "Processing Record 6 of Set 10 | stephenville\n",
      "Processing Record 7 of Set 10 | warangal\n",
      "Processing Record 8 of Set 10 | mount darwin\n",
      "Processing Record 9 of Set 10 | shache\n",
      "Processing Record 10 of Set 10 | aksu\n",
      "Processing Record 11 of Set 10 | awjilah\n",
      "Processing Record 12 of Set 10 | kalisz\n",
      "Processing Record 13 of Set 10 | kulhudhuffushi\n",
      "Processing Record 14 of Set 10 | gangapur\n",
      "Processing Record 15 of Set 10 | polovinnoye\n",
      "Processing Record 16 of Set 10 | urumqi\n",
      "Processing Record 17 of Set 10 | quatre cocos\n",
      "Processing Record 18 of Set 10 | douentza\n",
      "Processing Record 19 of Set 10 | teguise\n",
      "Processing Record 20 of Set 10 | lokbatan\n",
      "Processing Record 21 of Set 10 | dabakala\n",
      "Processing Record 22 of Set 10 | akureyri\n",
      "Processing Record 23 of Set 10 | khandbari\n",
      "Processing Record 24 of Set 10 | gouyave\n",
      "Processing Record 25 of Set 10 | warqla\n",
      "City not found. Skipping...\n",
      "Processing Record 26 of Set 10 | kegayli\n",
      "City not found. Skipping...\n",
      "Processing Record 27 of Set 10 | marolambo\n",
      "Processing Record 28 of Set 10 | jhelum\n",
      "Processing Record 29 of Set 10 | swellendam\n",
      "Processing Record 30 of Set 10 | mogadishu\n",
      "Processing Record 31 of Set 10 | ashland\n",
      "Processing Record 32 of Set 10 | nuuk\n",
      "Processing Record 33 of Set 10 | lakhdenpokhya\n",
      "Processing Record 34 of Set 10 | antalaha\n",
      "Processing Record 35 of Set 10 | bay roberts\n",
      "Processing Record 36 of Set 10 | wahran\n",
      "City not found. Skipping...\n",
      "Processing Record 37 of Set 10 | boyuibe\n",
      "Processing Record 38 of Set 10 | verona\n",
      "Processing Record 39 of Set 10 | malakal\n",
      "Processing Record 40 of Set 10 | ramgarh\n",
      "Processing Record 41 of Set 10 | san cristobal\n",
      "Processing Record 42 of Set 10 | nouakchott\n",
      "Processing Record 43 of Set 10 | edgewater\n",
      "Processing Record 44 of Set 10 | agirish\n",
      "Processing Record 45 of Set 10 | alliston\n",
      "Processing Record 46 of Set 10 | aflu\n",
      "City not found. Skipping...\n",
      "Processing Record 47 of Set 10 | contamana\n",
      "Processing Record 48 of Set 10 | annan\n",
      "Processing Record 49 of Set 10 | santa lucia\n",
      "Processing Record 0 of Set 11 | soyapango\n",
      "Processing Record 1 of Set 11 | onverwacht\n",
      "Processing Record 2 of Set 11 | micheweni\n",
      "Processing Record 3 of Set 11 | murgab\n",
      "Processing Record 4 of Set 11 | porbandar\n",
      "Processing Record 5 of Set 11 | la plata\n",
      "Processing Record 6 of Set 11 | bardiyah\n",
      "Processing Record 7 of Set 11 | letychiv\n",
      "Processing Record 8 of Set 11 | muros\n",
      "Processing Record 9 of Set 11 | at-bashi\n",
      "Processing Record 10 of Set 11 | kamina\n",
      "Processing Record 11 of Set 11 | dhuri\n",
      "Processing Record 12 of Set 11 | abu jubayhah\n",
      "City not found. Skipping...\n",
      "Processing Record 13 of Set 11 | zanjan\n",
      "Processing Record 14 of Set 11 | hajan\n",
      "Processing Record 15 of Set 11 | springbok\n",
      "Processing Record 16 of Set 11 | talnakh\n",
      "Processing Record 17 of Set 11 | yagoua\n",
      "Processing Record 18 of Set 11 | oranjestad\n",
      "Processing Record 19 of Set 11 | pucallpa\n",
      "Processing Record 20 of Set 11 | nikki\n",
      "Processing Record 21 of Set 11 | cannington\n",
      "Processing Record 22 of Set 11 | boralday\n",
      "Processing Record 23 of Set 11 | cabedelo\n",
      "Processing Record 24 of Set 11 | geraldton\n",
      "Processing Record 25 of Set 11 | camapua\n",
      "Processing Record 26 of Set 11 | south river\n",
      "Processing Record 27 of Set 11 | natal\n",
      "Processing Record 28 of Set 11 | crab hill\n",
      "City not found. Skipping...\n",
      "Processing Record 29 of Set 11 | grand baie\n",
      "Processing Record 30 of Set 11 | louisbourg\n",
      "City not found. Skipping...\n",
      "Processing Record 31 of Set 11 | kayerkan\n",
      "Processing Record 32 of Set 11 | copiapo\n",
      "Processing Record 33 of Set 11 | mchinji\n",
      "Processing Record 34 of Set 11 | labytnangi\n",
      "Processing Record 35 of Set 11 | krupina\n",
      "Processing Record 36 of Set 11 | sortland\n",
      "Processing Record 37 of Set 11 | ponta delgada\n",
      "Processing Record 38 of Set 11 | seara\n",
      "Processing Record 39 of Set 11 | wana\n",
      "Processing Record 40 of Set 11 | grimma\n",
      "Processing Record 41 of Set 11 | tomelloso\n",
      "Processing Record 42 of Set 11 | walvis bay\n",
      "Processing Record 43 of Set 11 | kutum\n",
      "Processing Record 44 of Set 11 | manadhoo\n",
      "Processing Record 45 of Set 11 | garowe\n",
      "Processing Record 46 of Set 11 | asosa\n",
      "Processing Record 47 of Set 11 | lafia\n",
      "Processing Record 48 of Set 11 | omboue\n",
      "Processing Record 49 of Set 11 | siauliai\n",
      "Processing Record 0 of Set 12 | caconda\n",
      "Processing Record 1 of Set 12 | saint-pierre\n",
      "Processing Record 2 of Set 12 | puerto leguizamo\n",
      "Processing Record 3 of Set 12 | la spezia\n",
      "Processing Record 4 of Set 12 | sainte-anne-des-monts\n",
      "Processing Record 5 of Set 12 | luena\n",
      "Processing Record 6 of Set 12 | mbigou\n",
      "Processing Record 7 of Set 12 | rafaela\n",
      "Processing Record 8 of Set 12 | batie\n",
      "Processing Record 9 of Set 12 | tabou\n",
      "Processing Record 10 of Set 12 | najran\n",
      "Processing Record 11 of Set 12 | karla\n",
      "Processing Record 12 of Set 12 | saalfeld\n"
     ]
    },
    {
     "name": "stdout",
     "output_type": "stream",
     "text": [
      "Processing Record 13 of Set 12 | vilhena\n",
      "Processing Record 14 of Set 12 | vitre\n",
      "Processing Record 15 of Set 12 | iguatemi\n",
      "Processing Record 16 of Set 12 | san javier\n",
      "Processing Record 17 of Set 12 | tumbes\n",
      "Processing Record 18 of Set 12 | ippy\n",
      "Processing Record 19 of Set 12 | dzhusaly\n",
      "City not found. Skipping...\n",
      "Processing Record 20 of Set 12 | mantua\n",
      "Processing Record 21 of Set 12 | sur\n",
      "Processing Record 22 of Set 12 | palani\n",
      "Processing Record 23 of Set 12 | westpunt\n",
      "City not found. Skipping...\n",
      "Processing Record 24 of Set 12 | am timan\n",
      "Processing Record 25 of Set 12 | tayport\n",
      "Processing Record 26 of Set 12 | kharitonovo\n",
      "Processing Record 27 of Set 12 | tanout\n",
      "Processing Record 28 of Set 12 | kousseri\n",
      "Processing Record 29 of Set 12 | banikoara\n",
      "Processing Record 30 of Set 12 | filingue\n",
      "Processing Record 31 of Set 12 | thinadhoo\n",
      "Processing Record 32 of Set 12 | mapiri\n",
      "Processing Record 33 of Set 12 | rzhev\n",
      "Processing Record 34 of Set 12 | bahia de caraquez\n",
      "Processing Record 35 of Set 12 | kayes\n",
      "Processing Record 36 of Set 12 | znamenskoye\n",
      "Processing Record 37 of Set 12 | umm kaddadah\n",
      "Processing Record 38 of Set 12 | cadillac\n",
      "Processing Record 39 of Set 12 | stromness\n",
      "Processing Record 40 of Set 12 | blagoyevo\n",
      "Processing Record 41 of Set 12 | zhanaozen\n",
      "Processing Record 42 of Set 12 | sharjah\n",
      "Processing Record 43 of Set 12 | dobrinka\n",
      "Processing Record 44 of Set 12 | monkey bay\n",
      "Processing Record 45 of Set 12 | qaqortoq\n",
      "Processing Record 46 of Set 12 | filadelfia\n",
      "Processing Record 47 of Set 12 | nsanje\n",
      "--------------------------------------------------------------        \n",
      "Data Retrieval Complete       \n",
      "--------------------------------------------------------------\n"
     ]
    }
   ],
   "source": [
    "# Set list to hold city data\n",
    "city_data = []\n",
    "\n",
    "# Create counters\n",
    "record_count = 1\n",
    "set_count = 1\n",
    "\n",
    "print(\"Beginning Data Retrieval \\n--------------------------------------------------------------\")\n",
    "\n",
    "# Loop through the list of cities and perform a request for data on each\n",
    "for i, city in enumerate(cities):\n",
    "    \n",
    "    # Group cities in sets of 50 for logging purposes\n",
    "    if (i % 50 == 0 and i >= 50):\n",
    "        set_count += 1\n",
    "        record_count = 0\n",
    "    # Create endpoint URL with each city\n",
    "    city_url = query_url + city\n",
    "    # Log the url, record, and set numbers\n",
    "    print(\"Processing Record %s of Set %s | %s\" % (record_count, set_count, city))\n",
    "    # Add 1 to the record count\n",
    "    record_count += 1\n",
    "\n",
    "    # Run an API request for each of the cities\n",
    "    try:\n",
    "        # Parse the JSON and retrieve data\n",
    "        city_weather = requests.get(city_url).json()        \n",
    "\n",
    "        # Parse out the max temp, humidity, and cloudiness\n",
    "        city_lat = city_weather[\"coord\"][\"lat\"]\n",
    "        city_lon = city_weather[\"coord\"][\"lon\"]\n",
    "        city_temp = city_weather[\"main\"][\"temp_max\"]\n",
    "        city_humidity = city_weather[\"main\"][\"humidity\"]\n",
    "        city_cloudiness = city_weather[\"clouds\"][\"all\"]  \n",
    "        city_windspeed = city_weather[\"wind\"][\"speed\"]  \n",
    "        city_country = city_weather['sys']['country']\n",
    "        city_date = city_weather['dt']\n",
    "\n",
    "        # Append column names\n",
    "        city_data.append({'City':city,\n",
    "                          'Lat':city_lat,\n",
    "                          'Lng':city_lon,\n",
    "                          'Max Temp':city_temp,\n",
    "                          'Humidity':city_humidity, \n",
    "                          'Cloudiness':city_cloudiness,\n",
    "                          'Wind Speed':city_windspeed,                          \n",
    "                          'Country':city_country,\n",
    "                          'Date':city_date})\n",
    "    \n",
    "    except:\n",
    "        print(\"City not found. Skipping...\")\n",
    "        pass\n",
    "        \n",
    "    time.sleep(2)\n",
    "    \n",
    "print (f\"-------------------------------------------------------------- \\\n",
    "       \\nData Retrieval Complete\\\n",
    "       \\n--------------------------------------------------------------\")"
   ]
  },
  {
   "cell_type": "markdown",
   "metadata": {},
   "source": [
    "### Convert Raw Data to DataFrame\n",
    "* Export the city data into a .csv.\n",
    "* Display the DataFrame"
   ]
  },
  {
   "cell_type": "code",
   "execution_count": 5,
   "metadata": {
    "scrolled": true
   },
   "outputs": [
    {
     "data": {
      "text/html": [
       "<div>\n",
       "<style scoped>\n",
       "    .dataframe tbody tr th:only-of-type {\n",
       "        vertical-align: middle;\n",
       "    }\n",
       "\n",
       "    .dataframe tbody tr th {\n",
       "        vertical-align: top;\n",
       "    }\n",
       "\n",
       "    .dataframe thead th {\n",
       "        text-align: right;\n",
       "    }\n",
       "</style>\n",
       "<table border=\"1\" class=\"dataframe\">\n",
       "  <thead>\n",
       "    <tr style=\"text-align: right;\">\n",
       "      <th></th>\n",
       "      <th>City</th>\n",
       "      <th>Lat</th>\n",
       "      <th>Lng</th>\n",
       "      <th>Max Temp</th>\n",
       "      <th>Humidity</th>\n",
       "      <th>Cloudiness</th>\n",
       "      <th>Wind Speed</th>\n",
       "      <th>Country</th>\n",
       "      <th>Date</th>\n",
       "    </tr>\n",
       "  </thead>\n",
       "  <tbody>\n",
       "    <tr>\n",
       "      <th>0</th>\n",
       "      <td>ushuaia</td>\n",
       "      <td>-54.8000</td>\n",
       "      <td>-68.3000</td>\n",
       "      <td>57.20</td>\n",
       "      <td>41</td>\n",
       "      <td>75</td>\n",
       "      <td>18.41</td>\n",
       "      <td>AR</td>\n",
       "      <td>1610144381</td>\n",
       "    </tr>\n",
       "    <tr>\n",
       "      <th>1</th>\n",
       "      <td>margate</td>\n",
       "      <td>51.3813</td>\n",
       "      <td>1.3862</td>\n",
       "      <td>37.99</td>\n",
       "      <td>90</td>\n",
       "      <td>99</td>\n",
       "      <td>4.00</td>\n",
       "      <td>GB</td>\n",
       "      <td>1610144297</td>\n",
       "    </tr>\n",
       "    <tr>\n",
       "      <th>2</th>\n",
       "      <td>port alfred</td>\n",
       "      <td>-33.5906</td>\n",
       "      <td>26.8910</td>\n",
       "      <td>70.00</td>\n",
       "      <td>92</td>\n",
       "      <td>47</td>\n",
       "      <td>1.01</td>\n",
       "      <td>ZA</td>\n",
       "      <td>1610144197</td>\n",
       "    </tr>\n",
       "    <tr>\n",
       "      <th>3</th>\n",
       "      <td>dekar</td>\n",
       "      <td>-21.5333</td>\n",
       "      <td>21.9333</td>\n",
       "      <td>71.78</td>\n",
       "      <td>74</td>\n",
       "      <td>100</td>\n",
       "      <td>5.86</td>\n",
       "      <td>BW</td>\n",
       "      <td>1610144391</td>\n",
       "    </tr>\n",
       "    <tr>\n",
       "      <th>4</th>\n",
       "      <td>paamiut</td>\n",
       "      <td>61.9940</td>\n",
       "      <td>-49.6678</td>\n",
       "      <td>27.14</td>\n",
       "      <td>80</td>\n",
       "      <td>98</td>\n",
       "      <td>9.91</td>\n",
       "      <td>GL</td>\n",
       "      <td>1610144394</td>\n",
       "    </tr>\n",
       "  </tbody>\n",
       "</table>\n",
       "</div>"
      ],
      "text/plain": [
       "          City      Lat      Lng  Max Temp  Humidity  Cloudiness  Wind Speed  \\\n",
       "0      ushuaia -54.8000 -68.3000     57.20        41          75       18.41   \n",
       "1      margate  51.3813   1.3862     37.99        90          99        4.00   \n",
       "2  port alfred -33.5906  26.8910     70.00        92          47        1.01   \n",
       "3        dekar -21.5333  21.9333     71.78        74         100        5.86   \n",
       "4      paamiut  61.9940 -49.6678     27.14        80          98        9.91   \n",
       "\n",
       "  Country        Date  \n",
       "0      AR  1610144381  \n",
       "1      GB  1610144297  \n",
       "2      ZA  1610144197  \n",
       "3      BW  1610144391  \n",
       "4      GL  1610144394  "
      ]
     },
     "execution_count": 5,
     "metadata": {},
     "output_type": "execute_result"
    }
   ],
   "source": [
    "# Display DataFrame\n",
    "dataframe = pd.DataFrame(city_data)\n",
    "dataframe.head()"
   ]
  },
  {
   "cell_type": "code",
   "execution_count": 6,
   "metadata": {
    "scrolled": true
   },
   "outputs": [
    {
     "data": {
      "text/html": [
       "<div>\n",
       "<style scoped>\n",
       "    .dataframe tbody tr th:only-of-type {\n",
       "        vertical-align: middle;\n",
       "    }\n",
       "\n",
       "    .dataframe tbody tr th {\n",
       "        vertical-align: top;\n",
       "    }\n",
       "\n",
       "    .dataframe thead th {\n",
       "        text-align: right;\n",
       "    }\n",
       "</style>\n",
       "<table border=\"1\" class=\"dataframe\">\n",
       "  <thead>\n",
       "    <tr style=\"text-align: right;\">\n",
       "      <th></th>\n",
       "      <th>Lat</th>\n",
       "      <th>Lng</th>\n",
       "      <th>Max Temp</th>\n",
       "      <th>Humidity</th>\n",
       "      <th>Cloudiness</th>\n",
       "      <th>Wind Speed</th>\n",
       "      <th>Date</th>\n",
       "    </tr>\n",
       "  </thead>\n",
       "  <tbody>\n",
       "    <tr>\n",
       "      <th>count</th>\n",
       "      <td>550.000000</td>\n",
       "      <td>550.000000</td>\n",
       "      <td>550.000000</td>\n",
       "      <td>550.000000</td>\n",
       "      <td>550.00000</td>\n",
       "      <td>550.000000</td>\n",
       "      <td>5.500000e+02</td>\n",
       "    </tr>\n",
       "    <tr>\n",
       "      <th>mean</th>\n",
       "      <td>19.526924</td>\n",
       "      <td>3.195267</td>\n",
       "      <td>52.902927</td>\n",
       "      <td>71.629091</td>\n",
       "      <td>49.98000</td>\n",
       "      <td>7.466618</td>\n",
       "      <td>1.610145e+09</td>\n",
       "    </tr>\n",
       "    <tr>\n",
       "      <th>std</th>\n",
       "      <td>31.023760</td>\n",
       "      <td>55.046716</td>\n",
       "      <td>27.021400</td>\n",
       "      <td>22.047735</td>\n",
       "      <td>39.08621</td>\n",
       "      <td>5.169629</td>\n",
       "      <td>4.474830e+02</td>\n",
       "    </tr>\n",
       "    <tr>\n",
       "      <th>min</th>\n",
       "      <td>-54.800000</td>\n",
       "      <td>-121.423800</td>\n",
       "      <td>-16.600000</td>\n",
       "      <td>1.000000</td>\n",
       "      <td>0.00000</td>\n",
       "      <td>0.270000</td>\n",
       "      <td>1.610144e+09</td>\n",
       "    </tr>\n",
       "    <tr>\n",
       "      <th>25%</th>\n",
       "      <td>-3.741975</td>\n",
       "      <td>-52.010425</td>\n",
       "      <td>31.865000</td>\n",
       "      <td>62.000000</td>\n",
       "      <td>2.25000</td>\n",
       "      <td>3.565000</td>\n",
       "      <td>1.610145e+09</td>\n",
       "    </tr>\n",
       "    <tr>\n",
       "      <th>50%</th>\n",
       "      <td>20.723950</td>\n",
       "      <td>13.141800</td>\n",
       "      <td>62.745000</td>\n",
       "      <td>78.000000</td>\n",
       "      <td>52.00000</td>\n",
       "      <td>6.080000</td>\n",
       "      <td>1.610145e+09</td>\n",
       "    </tr>\n",
       "    <tr>\n",
       "      <th>75%</th>\n",
       "      <td>44.248500</td>\n",
       "      <td>44.898225</td>\n",
       "      <td>75.427500</td>\n",
       "      <td>88.000000</td>\n",
       "      <td>90.00000</td>\n",
       "      <td>10.360000</td>\n",
       "      <td>1.610146e+09</td>\n",
       "    </tr>\n",
       "    <tr>\n",
       "      <th>max</th>\n",
       "      <td>78.218600</td>\n",
       "      <td>141.966700</td>\n",
       "      <td>91.990000</td>\n",
       "      <td>100.000000</td>\n",
       "      <td>100.00000</td>\n",
       "      <td>34.000000</td>\n",
       "      <td>1.610146e+09</td>\n",
       "    </tr>\n",
       "  </tbody>\n",
       "</table>\n",
       "</div>"
      ],
      "text/plain": [
       "              Lat         Lng    Max Temp    Humidity  Cloudiness  Wind Speed  \\\n",
       "count  550.000000  550.000000  550.000000  550.000000   550.00000  550.000000   \n",
       "mean    19.526924    3.195267   52.902927   71.629091    49.98000    7.466618   \n",
       "std     31.023760   55.046716   27.021400   22.047735    39.08621    5.169629   \n",
       "min    -54.800000 -121.423800  -16.600000    1.000000     0.00000    0.270000   \n",
       "25%     -3.741975  -52.010425   31.865000   62.000000     2.25000    3.565000   \n",
       "50%     20.723950   13.141800   62.745000   78.000000    52.00000    6.080000   \n",
       "75%     44.248500   44.898225   75.427500   88.000000    90.00000   10.360000   \n",
       "max     78.218600  141.966700   91.990000  100.000000   100.00000   34.000000   \n",
       "\n",
       "               Date  \n",
       "count  5.500000e+02  \n",
       "mean   1.610145e+09  \n",
       "std    4.474830e+02  \n",
       "min    1.610144e+09  \n",
       "25%    1.610145e+09  \n",
       "50%    1.610145e+09  \n",
       "75%    1.610146e+09  \n",
       "max    1.610146e+09  "
      ]
     },
     "execution_count": 6,
     "metadata": {},
     "output_type": "execute_result"
    }
   ],
   "source": [
    "# Display Statistical Overview \n",
    "statistical_overview = dataframe.describe()\n",
    "statistical_overview"
   ]
  },
  {
   "cell_type": "markdown",
   "metadata": {},
   "source": [
    "## Inspect the data and remove the cities where the humidity > 100%.\n",
    "----\n",
    "Skip this step if there are no cities that have humidity > 100%. "
   ]
  },
  {
   "cell_type": "code",
   "execution_count": 7,
   "metadata": {},
   "outputs": [
    {
     "data": {
      "text/plain": [
       "Int64Index([], dtype='int64')"
      ]
     },
     "execution_count": 7,
     "metadata": {},
     "output_type": "execute_result"
    }
   ],
   "source": [
    "# Get the indices of cities that have humidity over 100%.\n",
    "high_humidity = dataframe[dataframe['Humidity']>100].index\n",
    "high_humidity"
   ]
  },
  {
   "cell_type": "code",
   "execution_count": 8,
   "metadata": {
    "scrolled": false
   },
   "outputs": [
    {
     "data": {
      "text/html": [
       "<div>\n",
       "<style scoped>\n",
       "    .dataframe tbody tr th:only-of-type {\n",
       "        vertical-align: middle;\n",
       "    }\n",
       "\n",
       "    .dataframe tbody tr th {\n",
       "        vertical-align: top;\n",
       "    }\n",
       "\n",
       "    .dataframe thead th {\n",
       "        text-align: right;\n",
       "    }\n",
       "</style>\n",
       "<table border=\"1\" class=\"dataframe\">\n",
       "  <thead>\n",
       "    <tr style=\"text-align: right;\">\n",
       "      <th></th>\n",
       "      <th>City</th>\n",
       "      <th>Lat</th>\n",
       "      <th>Lng</th>\n",
       "      <th>Max Temp</th>\n",
       "      <th>Humidity</th>\n",
       "      <th>Cloudiness</th>\n",
       "      <th>Wind Speed</th>\n",
       "      <th>Country</th>\n",
       "      <th>Date</th>\n",
       "    </tr>\n",
       "  </thead>\n",
       "  <tbody>\n",
       "    <tr>\n",
       "      <th>0</th>\n",
       "      <td>ushuaia</td>\n",
       "      <td>-54.8000</td>\n",
       "      <td>-68.3000</td>\n",
       "      <td>57.20</td>\n",
       "      <td>41</td>\n",
       "      <td>75</td>\n",
       "      <td>18.41</td>\n",
       "      <td>AR</td>\n",
       "      <td>1610144381</td>\n",
       "    </tr>\n",
       "    <tr>\n",
       "      <th>1</th>\n",
       "      <td>margate</td>\n",
       "      <td>51.3813</td>\n",
       "      <td>1.3862</td>\n",
       "      <td>37.99</td>\n",
       "      <td>90</td>\n",
       "      <td>99</td>\n",
       "      <td>4.00</td>\n",
       "      <td>GB</td>\n",
       "      <td>1610144297</td>\n",
       "    </tr>\n",
       "    <tr>\n",
       "      <th>2</th>\n",
       "      <td>port alfred</td>\n",
       "      <td>-33.5906</td>\n",
       "      <td>26.8910</td>\n",
       "      <td>70.00</td>\n",
       "      <td>92</td>\n",
       "      <td>47</td>\n",
       "      <td>1.01</td>\n",
       "      <td>ZA</td>\n",
       "      <td>1610144197</td>\n",
       "    </tr>\n",
       "    <tr>\n",
       "      <th>3</th>\n",
       "      <td>dekar</td>\n",
       "      <td>-21.5333</td>\n",
       "      <td>21.9333</td>\n",
       "      <td>71.78</td>\n",
       "      <td>74</td>\n",
       "      <td>100</td>\n",
       "      <td>5.86</td>\n",
       "      <td>BW</td>\n",
       "      <td>1610144391</td>\n",
       "    </tr>\n",
       "    <tr>\n",
       "      <th>4</th>\n",
       "      <td>paamiut</td>\n",
       "      <td>61.9940</td>\n",
       "      <td>-49.6678</td>\n",
       "      <td>27.14</td>\n",
       "      <td>80</td>\n",
       "      <td>98</td>\n",
       "      <td>9.91</td>\n",
       "      <td>GL</td>\n",
       "      <td>1610144394</td>\n",
       "    </tr>\n",
       "  </tbody>\n",
       "</table>\n",
       "</div>"
      ],
      "text/plain": [
       "          City      Lat      Lng  Max Temp  Humidity  Cloudiness  Wind Speed  \\\n",
       "0      ushuaia -54.8000 -68.3000     57.20        41          75       18.41   \n",
       "1      margate  51.3813   1.3862     37.99        90          99        4.00   \n",
       "2  port alfred -33.5906  26.8910     70.00        92          47        1.01   \n",
       "3        dekar -21.5333  21.9333     71.78        74         100        5.86   \n",
       "4      paamiut  61.9940 -49.6678     27.14        80          98        9.91   \n",
       "\n",
       "  Country        Date  \n",
       "0      AR  1610144381  \n",
       "1      GB  1610144297  \n",
       "2      ZA  1610144197  \n",
       "3      BW  1610144391  \n",
       "4      GL  1610144394  "
      ]
     },
     "execution_count": 8,
     "metadata": {},
     "output_type": "execute_result"
    }
   ],
   "source": [
    "# Make a new DataFrame equal to the city data to drop all humidity outliers by index.\n",
    "# Passing \"inplace=False\" will make a copy of the city_data DataFrame, which we call \"clean_city_data\".\n",
    "clean_city_data = dataframe.drop(high_humidity, inplace = False)\n",
    "clean_city_data.head()"
   ]
  },
  {
   "cell_type": "code",
   "execution_count": 9,
   "metadata": {},
   "outputs": [],
   "source": [
    "# Reorder columns\n",
    "clean_city_data = clean_city_data[['City','Cloudiness','Country','Date','Humidity','Lat','Lng','Max Temp','Wind Speed']]\n",
    "\n",
    "# Export the City_Data into a csv\n",
    "clean_city_data.to_csv(output_data_file, index_label=\"City_ID\")"
   ]
  },
  {
   "cell_type": "markdown",
   "metadata": {},
   "source": [
    "## Plotting the Data\n",
    "* Use proper labeling of the plots using plot titles (including date of analysis) and axes labels.\n",
    "* Save the plotted figures as .pngs."
   ]
  },
  {
   "cell_type": "markdown",
   "metadata": {},
   "source": [
    "## Latitude vs. Temperature Plot"
   ]
  },
  {
   "cell_type": "code",
   "execution_count": 10,
   "metadata": {
    "scrolled": false
   },
   "outputs": [
    {
     "data": {
      "image/png": "[encoded data removed]",
      "text/plain": [
       "<Figure size 432x288 with 1 Axes>"
      ]
     },
     "metadata": {
      "needs_background": "light"
     },
     "output_type": "display_data"
    }
   ],
   "source": [
    "# Create a Scatter Plot for Latitude vs Temperature \n",
    "plt.scatter(clean_city_data[\"Lat\"], clean_city_data[\"Max Temp\"], marker= 'o', edgecolors='black')\n",
    "plt.xlabel(\"Latitude\") \n",
    "plt.ylabel(\"Max Temperature (F)\")\n",
    "plt.title(\"City Latitude vs. Max Temperature\")\n",
    "plt.grid(True)\n",
    "plt.savefig(\"output_data/Fig1.png\")\n",
    "plt.show() "
   ]
  },
  {
   "cell_type": "markdown",
   "metadata": {},
   "source": [
    "##### The code is creating a scatter plot to showcase the relationship between Temperature (F) and Latitude. From the plot,  it has been observed that the closer to 0 latitude, the higher the temperature and as the latitude increases or decreases, temperature drops."
   ]
  },
  {
   "cell_type": "markdown",
   "metadata": {},
   "source": [
    "## Latitude vs. Humidity Plot"
   ]
  },
  {
   "cell_type": "code",
   "execution_count": 12,
   "metadata": {
    "scrolled": true
   },
   "outputs": [
    {
     "data": {
      "image/png": "[encoded data removed]",
      "text/plain": [
       "<Figure size 432x288 with 1 Axes>"
      ]
     },
     "metadata": {
      "needs_background": "light"
     },
     "output_type": "display_data"
    }
   ],
   "source": [
    "# Create a Scatter Plot for Latitude vs Humidity Plot \n",
    "plt.scatter(clean_city_data[\"Lat\"], clean_city_data[\"Humidity\"], marker= 'o', edgecolors='black')\n",
    "plt.xlabel(\"Latitude\") \n",
    "plt.ylabel(\"Humidity (%)\")\n",
    "plt.title(\"City Latitude vs. Humidity\")\n",
    "plt.grid(True)\n",
    "plt.savefig(\"output_data/Fig2.png\")\n",
    "plt.show() "
   ]
  },
  {
   "cell_type": "markdown",
   "metadata": {},
   "source": [
    "##### The code is creating a scatter plot to showcase the relationship between Humidity (%) and Latitude. From the plot, it has been observed that hudmity is higher near the equator and in the southern hemisphere."
   ]
  },
  {
   "cell_type": "markdown",
   "metadata": {},
   "source": [
    "## Latitude vs. Cloudiness Plot"
   ]
  },
  {
   "cell_type": "code",
   "execution_count": 14,
   "metadata": {
    "scrolled": false
   },
   "outputs": [
    {
     "data": {
      "image/png": "[encoded data removed]",
      "text/plain": [
       "<Figure size 432x288 with 1 Axes>"
      ]
     },
     "metadata": {
      "needs_background": "light"
     },
     "output_type": "display_data"
    }
   ],
   "source": [
    "# Create a Scatter Plot for Latitude vs Cloudiness \n",
    "plt.scatter(clean_city_data[\"Lat\"], clean_city_data[\"Cloudiness\"], marker= 'o', edgecolors='black')\n",
    "plt.xlabel(\"Latitude\") \n",
    "plt.ylabel(\"Cloudiness (%)\")\n",
    "plt.title(\"City Latitude vs. Cloudiness\")\n",
    "plt.grid(True)\n",
    "plt.savefig(\"output_data/Fig3.png\")\n",
    "plt.show() "
   ]
  },
  {
   "cell_type": "markdown",
   "metadata": {},
   "source": [
    "##### The code is creating a scatter plot to showcase the relationship between Cloudiness (%) and Latitude. From the plot, it has been observed that there is no clear correlation between cloudiness and latitude."
   ]
  },
  {
   "cell_type": "markdown",
   "metadata": {},
   "source": [
    "## Latitude vs. Wind Speed Plot"
   ]
  },
  {
   "cell_type": "code",
   "execution_count": 16,
   "metadata": {},
   "outputs": [
    {
     "data": {
      "image/png": "[encoded data removed]",
      "text/plain": [
       "<Figure size 432x288 with 1 Axes>"
      ]
     },
     "metadata": {
      "needs_background": "light"
     },
     "output_type": "display_data"
    }
   ],
   "source": [
    "# Create a Scatter Plot for Latitude vs Wind Speed Plot \n",
    "plt.scatter(clean_city_data[\"Lat\"], clean_city_data[\"Wind Speed\"], marker= 'o', edgecolors='black')\n",
    "plt.xlabel(\"Latitude\") \n",
    "plt.ylabel(\"Wind Speed (mph)\")\n",
    "plt.title(\"City Latitude vs. Wind Speed\")\n",
    "plt.grid(True)\n",
    "plt.savefig(\"output_data/Fig4.png\")\n",
    "plt.show() "
   ]
  },
  {
   "cell_type": "markdown",
   "metadata": {},
   "source": [
    "##### The code is creating a scatter plot to showcase the relationship between Wind Speed (mph) and Latitude. From the plot, it has been observed that wind speed remains relatively unchanged across latitudes. "
   ]
  },
  {
   "cell_type": "markdown",
   "metadata": {},
   "source": [
    "## Linear Regression"
   ]
  },
  {
   "cell_type": "code",
   "execution_count": 18,
   "metadata": {},
   "outputs": [],
   "source": [
    "# Find cities in Northern Hemisphere \n",
    "northern_hemisphere = clean_city_data.loc[clean_city_data['Lat'] >= 0] \n",
    "\n",
    "# Find cities in Southern Hemisphere \n",
    "southern_hemisphere = clean_city_data.loc[clean_city_data['Lat'] < 0] "
   ]
  },
  {
   "cell_type": "markdown",
   "metadata": {},
   "source": [
    "####  Northern Hemisphere - Max Temp vs. Latitude Linear Regression"
   ]
  },
  {
   "cell_type": "code",
   "execution_count": 19,
   "metadata": {},
   "outputs": [
    {
     "name": "stdout",
     "output_type": "stream",
     "text": [
      "The r-value is: 0.7658149821294853\n"
     ]
    },
    {
     "data": {
      "image/png": "[encoded data removed]",
      "text/plain": [
       "<Figure size 432x288 with 1 Axes>"
      ]
     },
     "metadata": {
      "needs_background": "light"
     },
     "output_type": "display_data"
    }
   ],
   "source": [
    "# Perform a linear regression on Northern Hemisphere - Max Temp vs. Latitude Linear Regression\n",
    "(slope, intercept, rvalue, pvalue, stderr) = linregress(northern_hemisphere['Lat'], northern_hemisphere['Max Temp'])\n",
    "\n",
    "# Get regression values\n",
    "regress_values = northern_hemisphere['Lat'] * slope + intercept\n",
    "\n",
    "# Create line equation string\n",
    "line_eq = \"y = \" + str(round(slope,2)) + \"x +\" + str(round(intercept,2))\n",
    "\n",
    "# Create Plot\n",
    "plt.scatter(northern_hemisphere['Lat'], northern_hemisphere['Max Temp'])\n",
    "plt.plot(northern_hemisphere['Lat'],regress_values,\"r-\")\n",
    "\n",
    "# Label plot and annotate the line equation\n",
    "plt.xlabel('Latitude')\n",
    "plt.ylabel('Max Temp')\n",
    "plt.annotate(line_eq,(0,10),fontsize=15,color=\"red\")\n",
    "\n",
    "# Print r value\n",
    "print(f\"The r-value is: {rvalue**2}\")\n",
    "\n",
    "# Show plot\n",
    "plt.show()"
   ]
  },
  {
   "cell_type": "markdown",
   "metadata": {},
   "source": [
    "##### The linear regression is modeling the relationship between Temperature (F) and Latitude in the Northern Hemisphere. From the plot, it has been observed that the temperature and latitude have a strong negative correlation. "
   ]
  },
  {
   "cell_type": "markdown",
   "metadata": {},
   "source": [
    "####  Southern Hemisphere - Max Temp vs. Latitude Linear Regression"
   ]
  },
  {
   "cell_type": "code",
   "execution_count": 21,
   "metadata": {
    "scrolled": true
   },
   "outputs": [
    {
     "name": "stdout",
     "output_type": "stream",
     "text": [
      "The r-value is: 0.08454885009710808\n"
     ]
    },
    {
     "data": {
      "image/png": "[encoded data removed]",
      "text/plain": [
       "<Figure size 432x288 with 1 Axes>"
      ]
     },
     "metadata": {
      "needs_background": "light"
     },
     "output_type": "display_data"
    }
   ],
   "source": [
    "# Perform a linear regression on Northern Hemisphere - Max Temp vs. Latitude Linear Regression\n",
    "(slope, intercept, rvalue, pvalue, stderr) = linregress(southern_hemisphere['Lat'], southern_hemisphere['Max Temp'])\n",
    "\n",
    "# Get regression values\n",
    "regress_values = southern_hemisphere['Lat'] * slope + intercept\n",
    "\n",
    "# Create line equation string\n",
    "line_eq = \"y = \" + str(round(slope,2)) + \"x +\" + str(round(intercept,2))\n",
    "\n",
    "# Create Plot\n",
    "plt.scatter(southern_hemisphere['Lat'], southern_hemisphere['Max Temp'])\n",
    "plt.plot(southern_hemisphere['Lat'],regress_values,\"r-\")\n",
    "\n",
    "# Label plot and annotate the line equation\n",
    "plt.xlabel('Latitude')\n",
    "plt.ylabel('Max Temp')\n",
    "plt.annotate(line_eq,(-50,50),fontsize=15,color=\"red\")\n",
    "\n",
    "# Print r value\n",
    "print(f\"The r-value is: {rvalue**2}\")\n",
    "\n",
    "# Show plot\n",
    "plt.show()"
   ]
  },
  {
   "cell_type": "markdown",
   "metadata": {},
   "source": [
    "##### The linear regression is modeling the relationship between Temperature (F) and Latitude in the Southern Hemisphere. From the plot, it has been observed that the temperature and latitude have a weak positive correlation."
   ]
  },
  {
   "cell_type": "markdown",
   "metadata": {},
   "source": [
    "####  Northern Hemisphere - Humidity (%) vs. Latitude Linear Regression"
   ]
  },
  {
   "cell_type": "code",
   "execution_count": 23,
   "metadata": {},
   "outputs": [
    {
     "name": "stdout",
     "output_type": "stream",
     "text": [
      "The r-value is: 0.159653078163794\n"
     ]
    },
    {
     "data": {
      "image/png": "[encoded data removed]",
      "text/plain": [
       "<Figure size 432x288 with 1 Axes>"
      ]
     },
     "metadata": {
      "needs_background": "light"
     },
     "output_type": "display_data"
    }
   ],
   "source": [
    "# Perform a linear regression on Northern Hemisphere - Humidity (%) vs. Latitude Linear Regression\n",
    "(slope, intercept, rvalue, pvalue, stderr) = linregress(northern_hemisphere['Lat'], northern_hemisphere['Humidity'])\n",
    "\n",
    "# Get regression values\n",
    "regress_values = northern_hemisphere['Lat'] * slope + intercept\n",
    "\n",
    "# Create line equation string\n",
    "line_eq = \"y = \" + str(round(slope,2)) + \"x +\" + str(round(intercept,2))\n",
    "\n",
    "# Create Plot\n",
    "plt.scatter(northern_hemisphere['Lat'], northern_hemisphere['Humidity'])\n",
    "plt.plot(northern_hemisphere['Lat'],regress_values,\"r-\")\n",
    "\n",
    "# Label plot and annotate the line equation\n",
    "plt.xlabel('Latitude')\n",
    "plt.ylabel('Humidity')\n",
    "plt.annotate(line_eq,(40,15),fontsize=15,color=\"red\")\n",
    "\n",
    "# Print r value\n",
    "print(f\"The r-value is: {rvalue**2}\")\n",
    "\n",
    "# Show plot\n",
    "plt.show()"
   ]
  },
  {
   "cell_type": "markdown",
   "metadata": {},
   "source": [
    "##### The linear regression is modeling the relationship between Humidity (%) and Latitude in the Northern Hemisphere. From the plot, it has been observed that the humidity and latitude have a weak positive correlation."
   ]
  },
  {
   "cell_type": "markdown",
   "metadata": {},
   "source": [
    "####  Southern Hemisphere - Humidity (%) vs. Latitude Linear Regression"
   ]
  },
  {
   "cell_type": "code",
   "execution_count": 25,
   "metadata": {},
   "outputs": [
    {
     "name": "stdout",
     "output_type": "stream",
     "text": [
      "The r-value is: 0.2682597693122413\n"
     ]
    },
    {
     "data": {
      "image/png": "[encoded data removed]",
      "text/plain": [
       "<Figure size 432x288 with 1 Axes>"
      ]
     },
     "metadata": {
      "needs_background": "light"
     },
     "output_type": "display_data"
    }
   ],
   "source": [
    "# Perform a linear regression on Southern Hemisphere - Humidity (%) vs. Latitude Linear Regression\n",
    "(slope, intercept, rvalue, pvalue, stderr) = linregress(southern_hemisphere['Lat'], southern_hemisphere['Humidity'])\n",
    "\n",
    "# Get regression values\n",
    "regress_values = southern_hemisphere['Lat'] * slope + intercept\n",
    "\n",
    "# Create line equation string\n",
    "line_eq = \"y = \" + str(round(slope,2)) + \"x +\" + str(round(intercept,2))\n",
    "\n",
    "# Create Plot\n",
    "plt.scatter(southern_hemisphere['Lat'], southern_hemisphere['Humidity'])\n",
    "plt.plot(southern_hemisphere['Lat'],regress_values,\"r-\")\n",
    "\n",
    "# Label plot and annotate the line equation\n",
    "plt.xlabel('Latitude')\n",
    "plt.ylabel('Humidity')\n",
    "plt.annotate(line_eq,(-25,15),fontsize=15,color=\"red\")\n",
    "\n",
    "# Print r value\n",
    "print(f\"The r-value is: {rvalue**2}\")\n",
    "\n",
    "# Show plot\n",
    "plt.show()"
   ]
  },
  {
   "cell_type": "markdown",
   "metadata": {},
   "source": [
    "##### The linear regression is modeling the relationship between Humidity (%) and Latitude in the Southern Hemisphere. From the plot, it has been observed that the humidity and latitude have a weak positive correlation."
   ]
  },
  {
   "cell_type": "markdown",
   "metadata": {},
   "source": [
    "####  Northern Hemisphere - Cloudiness (%) vs. Latitude Linear Regression"
   ]
  },
  {
   "cell_type": "code",
   "execution_count": 27,
   "metadata": {},
   "outputs": [
    {
     "name": "stdout",
     "output_type": "stream",
     "text": [
      "The r-value is: 0.06212726511569402\n"
     ]
    },
    {
     "data": {
      "image/png": "[encoded data removed]",
      "text/plain": [
       "<Figure size 432x288 with 1 Axes>"
      ]
     },
     "metadata": {
      "needs_background": "light"
     },
     "output_type": "display_data"
    }
   ],
   "source": [
    "# Perform a linear regression on Northern Hemisphere - Cloudiness (%) vs. Latitude Linear Regression\n",
    "(slope, intercept, rvalue, pvalue, stderr) = linregress(northern_hemisphere['Lat'], northern_hemisphere['Cloudiness'])\n",
    "\n",
    "# Get regression values\n",
    "regress_values = northern_hemisphere['Lat'] * slope + intercept\n",
    "\n",
    "# Create line equation string\n",
    "line_eq = \"y = \" + str(round(slope,2)) + \"x +\" + str(round(intercept,2))\n",
    "\n",
    "# Create Plot\n",
    "plt.scatter(northern_hemisphere['Lat'], northern_hemisphere['Cloudiness'])\n",
    "plt.plot(northern_hemisphere['Lat'],regress_values,\"r-\")\n",
    "\n",
    "# Label plot and annotate the line equation\n",
    "plt.xlabel('Latitude')\n",
    "plt.ylabel('Cloudiness')\n",
    "plt.annotate(line_eq,(45,15),fontsize=15,color=\"red\")\n",
    "\n",
    "# Print r value\n",
    "print(f\"The r-value is: {rvalue**2}\")\n",
    "\n",
    "# Show plot\n",
    "plt.show()"
   ]
  },
  {
   "cell_type": "markdown",
   "metadata": {},
   "source": [
    "##### The linear regression is modeling the relationship between Cloudiness (%) and Latitude in the Northern Hemisphere. From the plot, it has been observed that the cloudiness and latitude have a weak positive correlation."
   ]
  },
  {
   "cell_type": "markdown",
   "metadata": {},
   "source": [
    "####  Southern Hemisphere - Cloudiness (%) vs. Latitude Linear Regression"
   ]
  },
  {
   "cell_type": "code",
   "execution_count": 29,
   "metadata": {},
   "outputs": [
    {
     "name": "stdout",
     "output_type": "stream",
     "text": [
      "The r-value is: 0.1777826413116068\n"
     ]
    },
    {
     "data": {
      "image/png": "[encoded data removed]",
      "text/plain": [
       "<Figure size 432x288 with 1 Axes>"
      ]
     },
     "metadata": {
      "needs_background": "light"
     },
     "output_type": "display_data"
    }
   ],
   "source": [
    "# Perform a linear regression on Southern Hemisphere - Cloudiness (%) vs. Latitude Linear Regression\n",
    "(slope, intercept, rvalue, pvalue, stderr) = linregress(southern_hemisphere['Lat'], southern_hemisphere['Cloudiness'])\n",
    "\n",
    "# Get regression values\n",
    "regress_values = southern_hemisphere['Lat'] * slope + intercept\n",
    "\n",
    "# Create line equation string\n",
    "line_eq = \"y = \" + str(round(slope,2)) + \"x +\" + str(round(intercept,2))\n",
    "\n",
    "# Create Plot\n",
    "plt.scatter(southern_hemisphere['Lat'], southern_hemisphere['Cloudiness'])\n",
    "plt.plot(southern_hemisphere['Lat'],regress_values,\"r-\")\n",
    "\n",
    "# Label plot and annotate the line equation\n",
    "plt.xlabel('Latitude')\n",
    "plt.ylabel('Cloudiness')\n",
    "plt.annotate(line_eq,(-30,10),fontsize=15,color=\"red\")\n",
    "\n",
    "# Print r value\n",
    "print(f\"The r-value is: {rvalue**2}\")\n",
    "\n",
    "# Show plot\n",
    "plt.show()"
   ]
  },
  {
   "cell_type": "markdown",
   "metadata": {},
   "source": [
    "##### The linear regression is modeling the relationship between Cloudiness (%) and Latitude in the Southern Hemisphere. From the plot, it has been observed that the cloudiness and latitude have a weak positive correlation."
   ]
  },
  {
   "cell_type": "markdown",
   "metadata": {},
   "source": [
    "####  Northern Hemisphere - Wind Speed (mph) vs. Latitude Linear Regression"
   ]
  },
  {
   "cell_type": "code",
   "execution_count": 31,
   "metadata": {},
   "outputs": [
    {
     "name": "stdout",
     "output_type": "stream",
     "text": [
      "The r-value is: 0.013623321334893992\n"
     ]
    },
    {
     "data": {
      "image/png": "[encoded data removed]",
      "text/plain": [
       "<Figure size 432x288 with 1 Axes>"
      ]
     },
     "metadata": {
      "needs_background": "light"
     },
     "output_type": "display_data"
    }
   ],
   "source": [
    "# Perform a linear regression on Northern Hemisphere - Wind Speed (mph) vs. Latitude Linear Regression\n",
    "(slope, intercept, rvalue, pvalue, stderr) = linregress(northern_hemisphere['Lat'], northern_hemisphere['Wind Speed'])\n",
    "\n",
    "# Get regression values\n",
    "regress_values = northern_hemisphere['Lat'] * slope + intercept\n",
    "\n",
    "# Create line equation string\n",
    "line_eq = \"y = \" + str(round(slope,2)) + \"x +\" + str(round(intercept,2))\n",
    "\n",
    "# Create Plot\n",
    "plt.scatter(northern_hemisphere['Lat'], northern_hemisphere['Wind Speed'])\n",
    "plt.plot(northern_hemisphere['Lat'],regress_values,\"r-\")\n",
    "\n",
    "# Label plot and annotate the line equation\n",
    "plt.xlabel('Latitude')\n",
    "plt.ylabel('Wind Speed')\n",
    "plt.annotate(line_eq,(20,30),fontsize=15,color=\"red\")\n",
    "\n",
    "# Print r value\n",
    "print(f\"The r-value is: {rvalue**2}\")\n",
    "\n",
    "# Show plot\n",
    "plt.show()"
   ]
  },
  {
   "cell_type": "markdown",
   "metadata": {},
   "source": [
    "##### The linear regression is modeling the relationship between Wind Speed (mph) and Latitude in the Northern Hemisphere. From the plot, it has been observed that the wind speed and latitude have a weak positive correlation."
   ]
  },
  {
   "cell_type": "markdown",
   "metadata": {},
   "source": [
    "####  Southern Hemisphere - Wind Speed (mph) vs. Latitude Linear Regression"
   ]
  },
  {
   "cell_type": "code",
   "execution_count": 33,
   "metadata": {},
   "outputs": [
    {
     "name": "stdout",
     "output_type": "stream",
     "text": [
      "The r-value is: 0.08877983036308768\n"
     ]
    },
    {
     "data": {
      "image/png": "[encoded data removed]",
      "text/plain": [
       "<Figure size 432x288 with 1 Axes>"
      ]
     },
     "metadata": {
      "needs_background": "light"
     },
     "output_type": "display_data"
    }
   ],
   "source": [
    "# Perform a linear regression on Southern Hemisphere - Wind Speed (mph) vs. Latitude Linear Regression\n",
    "(slope, intercept, rvalue, pvalue, stderr) = linregress(southern_hemisphere['Lat'], southern_hemisphere['Wind Speed'])\n",
    "\n",
    "# Get regression values\n",
    "regress_values = southern_hemisphere['Lat'] * slope + intercept\n",
    "\n",
    "# Create line equation string\n",
    "line_eq = \"y = \" + str(round(slope,2)) + \"x +\" + str(round(intercept,2))\n",
    "\n",
    "# Create Plot\n",
    "plt.scatter(southern_hemisphere['Lat'], southern_hemisphere['Wind Speed'])\n",
    "plt.plot(southern_hemisphere['Lat'],regress_values,\"r-\")\n",
    "\n",
    "# Label plot and annotate the line equation\n",
    "plt.xlabel('Latitude')\n",
    "plt.ylabel('Wind Speed')\n",
    "plt.annotate(line_eq,(-50,20),fontsize=15,color=\"red\")\n",
    "\n",
    "# Print r value\n",
    "print(f\"The r-value is: {rvalue**2}\")\n",
    "\n",
    "# Show plot\n",
    "plt.show()"
   ]
  },
  {
   "cell_type": "markdown",
   "metadata": {},
   "source": [
    "##### The linear regression is modeling the relationship between Wind Speed (mph) and Latitude in the Southern Hemisphere. From the plot, it has been observed that the wind speed and latitude have a weak negative correlation."
   ]
  }
 ],
 "metadata": {
  "anaconda-cloud": {},
  "kernel_info": {
   "name": "python3"
  },
  "kernelspec": {
   "display_name": "Python 3",
   "language": "python",
   "name": "python3"
  },
  "language_info": {
   "codemirror_mode": {
    "name": "ipython",
    "version": 3
   },
   "file_extension": ".py",
   "mimetype": "text/x-python",
   "name": "python",
   "nbconvert_exporter": "python",
   "pygments_lexer": "ipython3",
   "version": "3.8.3"
  },
  "latex_envs": {
   "LaTeX_envs_menu_present": true,
   "autoclose": false,
   "autocomplete": true,
   "bibliofile": "biblio.bib",
   "cite_by": "apalike",
   "current_citInitial": 1,
   "eqLabelWithNumbers": true,
   "eqNumInitial": 1,
   "hotkeys": {
    "equation": "Ctrl-E",
    "itemize": "Ctrl-I"
   },
   "labels_anchors": false,
   "latex_user_defs": false,
   "report_style_numbering": false,
   "user_envs_cfg": false
  },
  "nteract": {
   "version": "0.12.3"
  }
 },
 "nbformat": 4,
 "nbformat_minor": 2
}
